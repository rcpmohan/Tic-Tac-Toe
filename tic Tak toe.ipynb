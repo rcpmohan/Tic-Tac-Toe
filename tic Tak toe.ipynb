{
 "cells": [
  {
   "cell_type": "code",
   "execution_count": 3,
   "id": "61898f43",
   "metadata": {},
   "outputs": [],
   "source": [
    "game_list=[0,1,2]"
   ]
  },
  {
   "cell_type": "code",
   "execution_count": 4,
   "id": "ba06b202",
   "metadata": {},
   "outputs": [],
   "source": [
    "def display_gamelist(mylist):\n",
    "    print('the current list is : ')\n",
    "    print(game_list)"
   ]
  },
  {
   "cell_type": "code",
   "execution_count": 5,
   "id": "913eca85",
   "metadata": {},
   "outputs": [
    {
     "name": "stdout",
     "output_type": "stream",
     "text": [
      "the current list is : \n",
      "[0, 1, 2]\n"
     ]
    }
   ],
   "source": [
    "display_gamelist(game_list)"
   ]
  },
  {
   "cell_type": "code",
   "execution_count": 6,
   "id": "05f0cddf",
   "metadata": {},
   "outputs": [],
   "source": [
    "def position_choice():\n",
    "    choice='Wrong'\n",
    "    while choice not in ['0','1','2']:\n",
    "        choice=input('pick a position in (0,1,2): ')\n",
    "        if choice not in ['0','1','2']:\n",
    "            print('sarigga chudu ra huhaa')\n",
    "    return int(choice)"
   ]
  },
  {
   "cell_type": "code",
   "execution_count": 7,
   "id": "7d92d6f6",
   "metadata": {},
   "outputs": [
    {
     "name": "stdout",
     "output_type": "stream",
     "text": [
      "pick a position in (0,1,2): 1\n"
     ]
    },
    {
     "data": {
      "text/plain": [
       "1"
      ]
     },
     "execution_count": 7,
     "metadata": {},
     "output_type": "execute_result"
    }
   ],
   "source": [
    "position_choice()"
   ]
  },
  {
   "cell_type": "code",
   "execution_count": 8,
   "id": "4e41c4b4",
   "metadata": {},
   "outputs": [],
   "source": [
    "def replacement_choice(gamelist,position):\n",
    "\n",
    "        user_choice=input('type a string that you wanted to place: ')\n",
    "        gamelist[position]=user_choice\n",
    "        print('the current list is : ',gamelist)\n",
    "        return gamelist"
   ]
  },
  {
   "cell_type": "code",
   "execution_count": 9,
   "id": "918458a1",
   "metadata": {},
   "outputs": [
    {
     "name": "stdout",
     "output_type": "stream",
     "text": [
      "pick a position in (0,1,2): 2\n",
      "type a string that you wanted to place: hello\n",
      "the current list is :  [0, 1, 'hello']\n"
     ]
    },
    {
     "data": {
      "text/plain": [
       "[0, 1, 'hello']"
      ]
     },
     "execution_count": 9,
     "metadata": {},
     "output_type": "execute_result"
    }
   ],
   "source": [
    "replacement_choice(game_list,position_choice())"
   ]
  },
  {
   "cell_type": "code",
   "execution_count": 10,
   "id": "84a30b9d",
   "metadata": {},
   "outputs": [],
   "source": [
    "def user_interest():\n",
    "    interest='manabar gold and diamonds'\n",
    "    while interest not in ['Y','N']:\n",
    "        interest=input('Do you wanted to play again (type Y for Yes and N for No): ')\n",
    "        if interest not in ['Y','N']:\n",
    "            print('i cannot understand!')\n",
    "    if interest =='Y':\n",
    "        return True\n",
    "    else:\n",
    "        return False\n",
    "    \n",
    "    "
   ]
  },
  {
   "cell_type": "code",
   "execution_count": 12,
   "id": "35ceec32",
   "metadata": {},
   "outputs": [
    {
     "name": "stdout",
     "output_type": "stream",
     "text": [
      "the current list is : \n",
      "[0, 1, 'hello']\n",
      "pick a position in (0,1,2): 1\n",
      "type a string that you wanted to place: nothing\n",
      "the current list is :  [0, 'nothing', 'hello']\n",
      "Do you wanted to play again (type Y for Yes and N for No): n\n",
      "i cannot understand!\n",
      "Do you wanted to play again (type Y for Yes and N for No): N\n"
     ]
    }
   ],
   "source": [
    "game_on=True\n",
    "gamelist=[0,1,2]\n",
    "while game_on:\n",
    "    display_gamelist(game_list)\n",
    "    \n",
    "    \n",
    "    \n",
    "    replacement_choice(game_list,position_choice())\n",
    "    \n",
    "    \n",
    "    \n",
    "    game_on=user_interest()\n",
    "    "
   ]
  },
  {
   "cell_type": "code",
   "execution_count": 14,
   "id": "e8bc3c96",
   "metadata": {},
   "outputs": [
    {
     "data": {
      "text/plain": [
       "[0, 'nothing', 'hello']"
      ]
     },
     "execution_count": 14,
     "metadata": {},
     "output_type": "execute_result"
    }
   ],
   "source": [
    "game_list\n"
   ]
  },
  {
   "cell_type": "code",
   "execution_count": 22,
   "id": "1f4dd48b",
   "metadata": {},
   "outputs": [],
   "source": [
    "from IPython.display import clear_output"
   ]
  },
  {
   "cell_type": "code",
   "execution_count": 60,
   "id": "6a657a79",
   "metadata": {},
   "outputs": [],
   "source": [
    "board=[' ']*10"
   ]
  },
  {
   "cell_type": "code",
   "execution_count": 52,
   "id": "c09eddf5",
   "metadata": {},
   "outputs": [],
   "source": [
    " "
   ]
  },
  {
   "cell_type": "code",
   "execution_count": 53,
   "id": "09ea3edd",
   "metadata": {},
   "outputs": [
    {
     "name": "stdout",
     "output_type": "stream",
     "text": [
      " | | \n",
      "-----\n",
      " | | \n",
      "-----\n",
      " | | \n"
     ]
    }
   ],
   "source": [
    "displayboard(board)"
   ]
  },
  {
   "cell_type": "code",
   "execution_count": 26,
   "id": "6fb74d8e",
   "metadata": {},
   "outputs": [],
   "source": [
    "def playerinput():\n",
    "    marker =' '\n",
    "    while marker not in ['X','O']:\n",
    "        marker=input('player 1 plz select (X or O): ')\n",
    "        if marker not in ['X','O']:\n",
    "            print('overaction seyyaku reyy')\n",
    "    player1=marker\n",
    "    if player1=='X':\n",
    "        player2='O'\n",
    "    else:\n",
    "        player2='X'\n",
    "    return (player1,player2)"
   ]
  },
  {
   "cell_type": "code",
   "execution_count": 27,
   "id": "73fbad51",
   "metadata": {},
   "outputs": [
    {
     "name": "stdout",
     "output_type": "stream",
     "text": [
      "player 1 plz select (X or O): m\n",
      "overaction seyyaku reyy\n",
      "player 1 plz select (X or O): x\n",
      "overaction seyyaku reyy\n",
      "player 1 plz select (X or O): X\n"
     ]
    }
   ],
   "source": [
    "playermarker1,playermarker2=playerinput()"
   ]
  },
  {
   "cell_type": "code",
   "execution_count": 28,
   "id": "246aa1fd",
   "metadata": {},
   "outputs": [],
   "source": [
    "def place_marker(board, marker, position):\n",
    "    board[position]=marker\n",
    "    \n",
    " "
   ]
  },
  {
   "cell_type": "code",
   "execution_count": 66,
   "id": "c56db0b4",
   "metadata": {},
   "outputs": [],
   "source": [
    "def wincheck(board,mark):\n",
    "    if board[1]==board[2]==board[3]==mark:\n",
    "        return True\n",
    "    elif board[4]==board[5]==board[6]==mark:\n",
    "        return True\n",
    "    elif board[7]==board[8]==board[9]==mark:\n",
    "        return True\n",
    "    elif board[1]==board[4]==board[7]==mark:\n",
    "        return True\n",
    "    elif board[2]==board[5]==board[8]==mark:\n",
    "        return True\n",
    "    elif board[3]==board[6]==board[9]==mark:\n",
    "        return True\n",
    "    elif board[1]==board[5]==board[9]==mark:\n",
    "        return True\n",
    "    elif board[3]==board[5]==board[7]==mark:\n",
    "        return True\n",
    "    else:\n",
    "        return False\n",
    "        \n",
    "    "
   ]
  },
  {
   "cell_type": "code",
   "execution_count": 67,
   "id": "069ccff5",
   "metadata": {},
   "outputs": [
    {
     "data": {
      "text/plain": [
       "False"
      ]
     },
     "execution_count": 67,
     "metadata": {},
     "output_type": "execute_result"
    }
   ],
   "source": [
    "wincheck(board,'X')"
   ]
  },
  {
   "cell_type": "code",
   "execution_count": 78,
   "id": "91a7cb53",
   "metadata": {},
   "outputs": [],
   "source": [
    "def game():\n",
    "    \n",
    "    playerinput()\n",
    "    mark1,mark2=playerinput()\n",
    "    while (\" \" not in board) or (wincheck(board,mark1)== False) or (wincheck(board,mark2)== False):\n",
    "        \n",
    "        \n",
    "        boxnum=int(input('select the box (assume dail pad) :'))\n",
    "        board[boxnum]=mark1\n",
    "    return displayboard(board)\n",
    "    "
   ]
  },
  {
   "cell_type": "code",
   "execution_count": null,
   "id": "4311bba6",
   "metadata": {},
   "outputs": [
    {
     "name": "stdout",
     "output_type": "stream",
     "text": [
      "player 1 plz select (X or O): X\n",
      "player 1 plz select (X or O): X\n",
      "select the box (assume dail pad) :5\n"
     ]
    }
   ],
   "source": [
    "game()"
   ]
  },
  {
   "cell_type": "code",
   "execution_count": 2,
   "id": "5da443a0",
   "metadata": {},
   "outputs": [],
   "source": [
    "list1=[1,2,3]"
   ]
  },
  {
   "cell_type": "markdown",
   "id": "10e4950d",
   "metadata": {},
   "source": [
    "#"
   ]
  },
  {
   "cell_type": "code",
   "execution_count": 3,
   "id": "bdaeca03",
   "metadata": {},
   "outputs": [],
   "source": [
    "list2=[4,5,6]"
   ]
  },
  {
   "cell_type": "code",
   "execution_count": 4,
   "id": "404f566b",
   "metadata": {},
   "outputs": [],
   "source": [
    "list3=[7,8,9]"
   ]
  },
  {
   "cell_type": "code",
   "execution_count": 28,
   "id": "806408ac",
   "metadata": {},
   "outputs": [],
   "source": [
    "def display() :\n",
    "   \n",
    "    print(' {} \\n {} \\n {} '.format(list1,list2,list3))"
   ]
  },
  {
   "cell_type": "code",
   "execution_count": 29,
   "id": "67c29733",
   "metadata": {},
   "outputs": [
    {
     "data": {
      "text/plain": [
       "[[1, 2, 3], [4, 5, 6], [7, 8, 9]]"
      ]
     },
     "execution_count": 29,
     "metadata": {},
     "output_type": "execute_result"
    }
   ],
   "source": [
    "matrix"
   ]
  },
  {
   "cell_type": "code",
   "execution_count": 30,
   "id": "4074a03c",
   "metadata": {},
   "outputs": [
    {
     "ename": "NameError",
     "evalue": "name 'clear_output' is not defined",
     "output_type": "error",
     "traceback": [
      "\u001b[1;31m---------------------------------------------------------------------------\u001b[0m",
      "\u001b[1;31mNameError\u001b[0m                                 Traceback (most recent call last)",
      "\u001b[1;32m<ipython-input-30-4ab3b57d7e7c>\u001b[0m in \u001b[0;36m<module>\u001b[1;34m\u001b[0m\n\u001b[1;32m----> 1\u001b[1;33m \u001b[0mdisplay\u001b[0m\u001b[1;33m(\u001b[0m\u001b[1;33m)\u001b[0m\u001b[1;33m\u001b[0m\u001b[1;33m\u001b[0m\u001b[0m\n\u001b[0m",
      "\u001b[1;32m<ipython-input-28-b6831d7833bd>\u001b[0m in \u001b[0;36mdisplay\u001b[1;34m()\u001b[0m\n\u001b[0;32m      1\u001b[0m \u001b[1;32mdef\u001b[0m \u001b[0mdisplay\u001b[0m\u001b[1;33m(\u001b[0m\u001b[1;33m)\u001b[0m \u001b[1;33m:\u001b[0m\u001b[1;33m\u001b[0m\u001b[1;33m\u001b[0m\u001b[0m\n\u001b[1;32m----> 2\u001b[1;33m     \u001b[0mclear_output\u001b[0m\u001b[1;33m(\u001b[0m\u001b[1;33m)\u001b[0m\u001b[1;33m\u001b[0m\u001b[1;33m\u001b[0m\u001b[0m\n\u001b[0m\u001b[0;32m      3\u001b[0m     \u001b[0mprint\u001b[0m\u001b[1;33m(\u001b[0m\u001b[1;34m' {} \\n {} \\n {} '\u001b[0m\u001b[1;33m.\u001b[0m\u001b[0mformat\u001b[0m\u001b[1;33m(\u001b[0m\u001b[0mlist1\u001b[0m\u001b[1;33m,\u001b[0m\u001b[0mlist2\u001b[0m\u001b[1;33m,\u001b[0m\u001b[0mlist3\u001b[0m\u001b[1;33m)\u001b[0m\u001b[1;33m)\u001b[0m\u001b[1;33m\u001b[0m\u001b[1;33m\u001b[0m\u001b[0m\n",
      "\u001b[1;31mNameError\u001b[0m: name 'clear_output' is not defined"
     ]
    }
   ],
   "source": [
    "display()"
   ]
  },
  {
   "cell_type": "code",
   "execution_count": 31,
   "id": "b6daddb2",
   "metadata": {},
   "outputs": [],
   "source": [
    "testboard = [\"#\",' ',' ',' ',' ',' ',' ',' ',' ',' ',]"
   ]
  },
  {
   "cell_type": "code",
   "execution_count": 32,
   "id": "4a91ae3f",
   "metadata": {},
   "outputs": [
    {
     "data": {
      "text/plain": [
       "' '"
      ]
     },
     "execution_count": 32,
     "metadata": {},
     "output_type": "execute_result"
    }
   ],
   "source": [
    "testboard[9]"
   ]
  },
  {
   "cell_type": "code",
   "execution_count": 33,
   "id": "574cb178",
   "metadata": {},
   "outputs": [],
   "source": [
    "def displayboard(board):\n",
    "    clear_output()\n",
    "    print(board[7]+'|'+board[8]+'|'+board[9])\n",
    "    print(board[4]+'|'+board[5]+'|'+board[6])\n",
    "    print(board[1]+'|'+board[2]+'|'+board[3])"
   ]
  },
  {
   "cell_type": "code",
   "execution_count": 34,
   "id": "4219ee86",
   "metadata": {},
   "outputs": [
    {
     "name": "stdout",
     "output_type": "stream",
     "text": [
      " | | \n",
      " | | \n",
      " | | \n"
     ]
    }
   ],
   "source": [
    "displayboard(testboard)"
   ]
  },
  {
   "cell_type": "code",
   "execution_count": 35,
   "id": "7529b31b",
   "metadata": {},
   "outputs": [],
   "source": [
    "def playerinput():\n",
    "    marker=''\n",
    "    while marker !='O' and marker !='X':\n",
    "        \n",
    "        marker = input('player 1 plz choose X or O as input: ').upper()\n",
    "    \n",
    "    if marker =='X':\n",
    "        return ('X','O')\n",
    "    else:\n",
    "        return ('O','X')"
   ]
  },
  {
   "cell_type": "code",
   "execution_count": 36,
   "id": "7ffdc5dd",
   "metadata": {},
   "outputs": [
    {
     "name": "stdout",
     "output_type": "stream",
     "text": [
      "player 1 plz choose X or O as input: X\n"
     ]
    }
   ],
   "source": [
    "player1marker,player2marker=playerinput()"
   ]
  },
  {
   "cell_type": "code",
   "execution_count": 37,
   "id": "6bb3ab7b",
   "metadata": {},
   "outputs": [
    {
     "data": {
      "text/plain": [
       "'X'"
      ]
     },
     "execution_count": 37,
     "metadata": {},
     "output_type": "execute_result"
    }
   ],
   "source": [
    "\n",
    "player1marker"
   ]
  },
  {
   "cell_type": "code",
   "execution_count": 38,
   "id": "2fce908c",
   "metadata": {},
   "outputs": [],
   "source": [
    "def placemarker(board,marker,position):\n",
    "    board[position]=marker"
   ]
  },
  {
   "cell_type": "code",
   "execution_count": 39,
   "id": "47721840",
   "metadata": {},
   "outputs": [],
   "source": [
    "placemarker(testboard,'',9)"
   ]
  },
  {
   "cell_type": "code",
   "execution_count": 40,
   "id": "b4cf162f",
   "metadata": {},
   "outputs": [
    {
     "name": "stdout",
     "output_type": "stream",
     "text": [
      " | |\n",
      " | | \n",
      " | | \n"
     ]
    }
   ],
   "source": [
    "displayboard(testboard)"
   ]
  },
  {
   "cell_type": "code",
   "execution_count": 41,
   "id": "50aa1025",
   "metadata": {},
   "outputs": [],
   "source": [
    "def wincheck(board,mark):\n",
    "    if board[1]==board[2]==board[3]==mark:\n",
    "        return True\n",
    "    elif board[4]==board[5]==board[6]==mark:\n",
    "        return True\n",
    "    elif board[7]==board[8]==board[9]==mark:\n",
    "        return True\n",
    "    elif board[1]==board[4]==board[7]==mark:\n",
    "        return True\n",
    "    elif board[2]==board[5]==board[8]==mark:\n",
    "        return True\n",
    "    elif board[3]==board[6]==board[9]==mark:\n",
    "        return True\n",
    "    elif board[1]==board[5]==board[9]==mark:\n",
    "        return True\n",
    "    elif board[3]==board[5]==board[7]==mark:\n",
    "        return True\n",
    "    else:\n",
    "        return False"
   ]
  },
  {
   "cell_type": "code",
   "execution_count": 42,
   "id": "c3ec7dc7",
   "metadata": {},
   "outputs": [
    {
     "name": "stdout",
     "output_type": "stream",
     "text": [
      " | |\n",
      " | | \n",
      " | | \n"
     ]
    },
    {
     "data": {
      "text/plain": [
       "True"
      ]
     },
     "execution_count": 42,
     "metadata": {},
     "output_type": "execute_result"
    }
   ],
   "source": [
    "displayboard(testboard)\n",
    "wincheck(testboard,' ')"
   ]
  },
  {
   "cell_type": "code",
   "execution_count": 43,
   "id": "a7a6448d",
   "metadata": {},
   "outputs": [],
   "source": [
    "import random"
   ]
  },
  {
   "cell_type": "code",
   "execution_count": 62,
   "id": "4a21292c",
   "metadata": {},
   "outputs": [],
   "source": [
    "def choose_first():\n",
    "    for i in range(0,100):\n",
    "        if i%2==0:\n",
    "            return 'Player 1'\n",
    "        else:\n",
    "            return \"Player 2\""
   ]
  },
  {
   "cell_type": "code",
   "execution_count": 53,
   "id": "a1a65b1c",
   "metadata": {},
   "outputs": [],
   "source": [
    "def space_check(board,position):\n",
    "    return board[position]==' '"
   ]
  },
  {
   "cell_type": "code",
   "execution_count": 54,
   "id": "7f5b34ee",
   "metadata": {},
   "outputs": [],
   "source": [
    "def full_board_check(board):\n",
    "    \n",
    "     for i in range(0,10):\n",
    "            if space_check(board,i):\n",
    "                return False\n",
    "            else:\n",
    "                pass\n",
    "     return True"
   ]
  },
  {
   "cell_type": "code",
   "execution_count": 55,
   "id": "687ad9c0",
   "metadata": {},
   "outputs": [],
   "source": [
    "from IPython.display import clear_output\n",
    "clear_output()"
   ]
  },
  {
   "cell_type": "code",
   "execution_count": 72,
   "id": "abe2e274",
   "metadata": {},
   "outputs": [],
   "source": [
    "def player_choice(board):\n",
    "    position = 0\n",
    "    while position not in [1,2,3,4,5,6,7,8,9] or not space_check(board,position):\n",
    "            \n",
    "            position = int(input(\"player select a position (1-9):  \"))\n",
    "            \n",
    "    return position\n",
    "            \n",
    "            "
   ]
  },
  {
   "cell_type": "code",
   "execution_count": 73,
   "id": "232db69e",
   "metadata": {},
   "outputs": [],
   "source": [
    "def replay():\n",
    "    choice = input(\"play again? Yes or No\")\n",
    "    return choice=='Yes'"
   ]
  },
  {
   "cell_type": "code",
   "execution_count": 74,
   "id": "1c9cb3f8",
   "metadata": {},
   "outputs": [
    {
     "name": "stdout",
     "output_type": "stream",
     "text": [
      " | | \n",
      " | | \n",
      " | | \n",
      "player select a position (1-9):  5\n"
     ]
    }
   ],
   "source": [
    "print('Welcome')\n",
    "board = [\"#\",' ',' ',' ',' ',' ',' ',' ',' ',' ',]\n",
    "    \n",
    "player1marker,player2marker=playerinput()\n",
    "    \n",
    "turn = choose_first()\n",
    "    \n",
    "print(turn + 'will go first')\n",
    "          \n",
    "if turn=='Player 1':\n",
    "            \n",
    "        displayboard(board)\n",
    "            \n",
    "        position = player_choice(board)\n",
    "            \n",
    "        placemarker(board,player1marker,position)\n",
    "            \n",
    "        if wincheck(board,player1marker):\n",
    "                \n",
    "            print('congrats player 1 has won')\n",
    "                \n",
    "            displayboard(board)\n",
    "                \n",
    "            \n",
    "                \n",
    "        else:\n",
    "            if full_board_check(board):\n",
    "                    \n",
    "                displayboard(board)\n",
    "                    \n",
    "                print('its a tie')\n",
    "                    \n",
    "                    \n",
    "else:\n",
    "            \n",
    "        displayboard(board)\n",
    "            \n",
    "        position = player_choice(board)\n",
    "            \n",
    "        placemarker(board,player2marker,position)\n",
    "            \n",
    "        if wincheck(board,player2marker):\n",
    "                \n",
    "            print('congrats player 2 has won')\n",
    "                \n",
    "            displayboard(board)\n",
    "                \n",
    "               \n",
    "        else:\n",
    "            if full_board_check(board):\n",
    "                    \n",
    "                displayboard(board)\n",
    "                    \n",
    "                print('its a tie')\n",
    "                    \n",
    "                gameon=False\n",
    "                \n",
    "                \n",
    "            \n",
    "            \n",
    "            \n",
    "        \n",
    "        \n",
    "        \n",
    "    \n",
    "    \n",
    "    \n",
    "\n"
   ]
  },
  {
   "cell_type": "code",
   "execution_count": 75,
   "id": "3f4a831f",
   "metadata": {},
   "outputs": [
    {
     "name": "stdout",
     "output_type": "stream",
     "text": [
      " |X|O\n",
      "O|X| \n",
      " |X| \n",
      "congrats player 1 has won\n"
     ]
    }
   ],
   "source": [
    "print('Welcome')\n",
    "board = [\"#\",' ',' ',' ',' ',' ',' ',' ',' ',' ',]\n",
    "    \n",
    "player1marker,player2marker=playerinput()\n",
    "for i in range(0,100):\n",
    "    if i%2==0:\n",
    "        displayboard(board)\n",
    "            \n",
    "        position = player_choice(board)\n",
    "            \n",
    "        placemarker(board,player1marker,position)\n",
    "            \n",
    "        if wincheck(board,player1marker):\n",
    "            displayboard(board)    \n",
    "            print('congrats player 1 has won')\n",
    "                \n",
    "            \n",
    "            break\n",
    "                \n",
    "            \n",
    "                \n",
    "        else:\n",
    "            if full_board_check(board):\n",
    "                    \n",
    "                displayboard(board)\n",
    "                    \n",
    "                print('its a tie')\n",
    "                break\n",
    "    else:\n",
    "        displayboard(board)\n",
    "            \n",
    "        position = player_choice(board)\n",
    "            \n",
    "        placemarker(board,player2marker,position)\n",
    "            \n",
    "        if wincheck(board,player2marker):\n",
    "            displayboard(board)    \n",
    "            print('congrats player 2 has won')\n",
    "                \n",
    "            \n",
    "            break\n",
    "                \n",
    "               \n",
    "        else:\n",
    "            if full_board_check(board):\n",
    "                    \n",
    "                displayboard(board)\n",
    "                    \n",
    "                print('its a tie')\n",
    "                break\n",
    "        \n",
    "        "
   ]
  },
  {
   "cell_type": "code",
   "execution_count": null,
   "id": "218c18df",
   "metadata": {},
   "outputs": [],
   "source": []
  },
  {
   "cell_type": "code",
   "execution_count": null,
   "id": "8d3c3a0d",
   "metadata": {},
   "outputs": [],
   "source": []
  }
 ],
 "metadata": {
  "kernelspec": {
   "display_name": "Python 3",
   "language": "python",
   "name": "python3"
  },
  "language_info": {
   "codemirror_mode": {
    "name": "ipython",
    "version": 3
   },
   "file_extension": ".py",
   "mimetype": "text/x-python",
   "name": "python",
   "nbconvert_exporter": "python",
   "pygments_lexer": "ipython3",
   "version": "3.8.8"
  }
 },
 "nbformat": 4,
 "nbformat_minor": 5
}
